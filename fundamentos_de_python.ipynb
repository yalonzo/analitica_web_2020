{
 "cells": [
  {
   "cell_type": "markdown",
   "metadata": {
    "colab_type": "text",
    "id": "1AZb1jnxZwlQ"
   },
   "source": [
    "<font size=\"7\" color=\"#0DC40D\"><b>Fundamentos de Python</b></font>\n",
    "\n",
    "\n",
    "# Python World\n",
    "\n",
    "* Desarrollado por Guido van Rossum\n",
    "* Su nombre proviene de una serie cómica (Monty Python)\n",
    "* Lenguaje de Programación Híbrido (Interpretado y Compilado)\n",
    "* Tienes dos vertientes: Python 2.x y Python 3.x\n",
    "\n",
    "<img src=\"https://encrypted-tbn0.gstatic.com/images?q=tbn%3AANd9GcQtwJiYDrIVqxG4YOei1avLeuFGeLmQODPlxnuIr1puyfk6UMRb\">"
   ]
  },
  {
   "cell_type": "markdown",
   "metadata": {
    "colab_type": "text",
    "id": "smWyb07eaRlo"
   },
   "source": [
    "## Variables"
   ]
  },
  {
   "cell_type": "code",
   "execution_count": null,
   "metadata": {
    "colab": {
     "base_uri": "https://localhost:8080/",
     "height": 34
    },
    "colab_type": "code",
    "executionInfo": {
     "elapsed": 734,
     "status": "ok",
     "timestamp": 1599278322826,
     "user": {
      "displayName": "Neisser Alonzo ALE ALE",
      "photoUrl": "",
      "userId": "05728023129513976545"
     },
     "user_tz": 300
    },
    "id": "MO_hR1mBZtaX",
    "outputId": "75c54628-ab2b-4151-c7d0-8eeee8d4b2a5"
   },
   "outputs": [
    {
     "name": "stdout",
     "output_type": "stream",
     "text": [
      "Hola mundo <class 'str'>\n"
     ]
    }
   ],
   "source": [
    "## string\n",
    "hola = \"Hola mundo\"\n",
    "print(hola, type(hola))"
   ]
  },
  {
   "cell_type": "code",
   "execution_count": null,
   "metadata": {
    "colab": {
     "base_uri": "https://localhost:8080/",
     "height": 34
    },
    "colab_type": "code",
    "executionInfo": {
     "elapsed": 713,
     "status": "ok",
     "timestamp": 1599278328693,
     "user": {
      "displayName": "Neisser Alonzo ALE ALE",
      "photoUrl": "",
      "userId": "05728023129513976545"
     },
     "user_tz": 300
    },
    "id": "tqQHGtqrapF3",
    "outputId": "ceef0e9d-3c0b-4305-f64f-764a6f69edbe"
   },
   "outputs": [
    {
     "name": "stdout",
     "output_type": "stream",
     "text": [
      "20 <class 'int'>\n"
     ]
    }
   ],
   "source": [
    "## int\n",
    "number_int = 20\n",
    "print(number_int, type(number_int))"
   ]
  },
  {
   "cell_type": "code",
   "execution_count": null,
   "metadata": {
    "colab": {
     "base_uri": "https://localhost:8080/",
     "height": 34
    },
    "colab_type": "code",
    "executionInfo": {
     "elapsed": 774,
     "status": "ok",
     "timestamp": 1599278334852,
     "user": {
      "displayName": "Neisser Alonzo ALE ALE",
      "photoUrl": "",
      "userId": "05728023129513976545"
     },
     "user_tz": 300
    },
    "id": "Tz6kgwTHaqhg",
    "outputId": "d947970c-8351-47a2-e290-dde703907b78"
   },
   "outputs": [
    {
     "name": "stdout",
     "output_type": "stream",
     "text": [
      "20.0 <class 'int'>\n"
     ]
    }
   ],
   "source": [
    "## float\n",
    "number_float = 20.0\n",
    "print(number_float, type(number_int))"
   ]
  },
  {
   "cell_type": "code",
   "execution_count": null,
   "metadata": {
    "colab": {
     "base_uri": "https://localhost:8080/",
     "height": 34
    },
    "colab_type": "code",
    "executionInfo": {
     "elapsed": 690,
     "status": "ok",
     "timestamp": 1599278391510,
     "user": {
      "displayName": "Neisser Alonzo ALE ALE",
      "photoUrl": "",
      "userId": "05728023129513976545"
     },
     "user_tz": 300
    },
    "id": "yDwLF2XiasA4",
    "outputId": "6b5f6482-e5fa-4948-b3fb-7a2f52e42db0"
   },
   "outputs": [
    {
     "name": "stdout",
     "output_type": "stream",
     "text": [
      "True <class 'bool'>\n"
     ]
    }
   ],
   "source": [
    "## bool\n",
    "true, false = True, False\n",
    "print(true, type(true))"
   ]
  },
  {
   "cell_type": "markdown",
   "metadata": {
    "colab_type": "text",
    "id": "y3b1XbrCbAho"
   },
   "source": [
    "## Casteo de Variables"
   ]
  },
  {
   "cell_type": "code",
   "execution_count": null,
   "metadata": {
    "colab": {
     "base_uri": "https://localhost:8080/",
     "height": 34
    },
    "colab_type": "code",
    "executionInfo": {
     "elapsed": 753,
     "status": "ok",
     "timestamp": 1599279055285,
     "user": {
      "displayName": "Neisser Alonzo ALE ALE",
      "photoUrl": "",
      "userId": "05728023129513976545"
     },
     "user_tz": 300
    },
    "id": "vrwyUhOBa53Y",
    "outputId": "224e1d94-d683-4a26-9720-1f2e291cf958"
   },
   "outputs": [
    {
     "name": "stdout",
     "output_type": "stream",
     "text": [
      "20.0 <class 'str'>\n"
     ]
    }
   ],
   "source": [
    "## integer | float >> string\n",
    "character = str(20.0)\n",
    "print(character, type(character))"
   ]
  },
  {
   "cell_type": "code",
   "execution_count": null,
   "metadata": {
    "colab": {
     "base_uri": "https://localhost:8080/",
     "height": 34
    },
    "colab_type": "code",
    "executionInfo": {
     "elapsed": 456,
     "status": "ok",
     "timestamp": 1599279055722,
     "user": {
      "displayName": "Neisser Alonzo ALE ALE",
      "photoUrl": "",
      "userId": "05728023129513976545"
     },
     "user_tz": 300
    },
    "id": "6yvd4QdTcyY5",
    "outputId": "d8b7719c-de0d-408b-f3e1-96cb9ed701c3"
   },
   "outputs": [
    {
     "name": "stdout",
     "output_type": "stream",
     "text": [
      "20 <class 'int'>\n"
     ]
    }
   ],
   "source": [
    "## float >> integer\n",
    "number_int = int(20.0)\n",
    "print(number_int, type(number_int))"
   ]
  },
  {
   "cell_type": "code",
   "execution_count": null,
   "metadata": {
    "colab": {
     "base_uri": "https://localhost:8080/",
     "height": 34
    },
    "colab_type": "code",
    "executionInfo": {
     "elapsed": 639,
     "status": "ok",
     "timestamp": 1599279153202,
     "user": {
      "displayName": "Neisser Alonzo ALE ALE",
      "photoUrl": "",
      "userId": "05728023129513976545"
     },
     "user_tz": 300
    },
    "id": "IUtIjj4idScB",
    "outputId": "1ff32662-6b79-4d77-be4e-2b35f0d3b15a"
   },
   "outputs": [
    {
     "name": "stdout",
     "output_type": "stream",
     "text": [
      "20.0 <class 'float'>\n"
     ]
    }
   ],
   "source": [
    "## integer >> float\n",
    "number_float = float(20)\n",
    "print(number_float, type(number_float))"
   ]
  },
  {
   "cell_type": "markdown",
   "metadata": {
    "colab_type": "text",
    "id": "FKZ5BBXaduNk"
   },
   "source": [
    "## Borrar variables"
   ]
  },
  {
   "cell_type": "code",
   "execution_count": null,
   "metadata": {
    "colab": {
     "base_uri": "https://localhost:8080/",
     "height": 197
    },
    "colab_type": "code",
    "executionInfo": {
     "elapsed": 688,
     "status": "error",
     "timestamp": 1599279177470,
     "user": {
      "displayName": "Neisser Alonzo ALE ALE",
      "photoUrl": "",
      "userId": "05728023129513976545"
     },
     "user_tz": 300
    },
    "id": "-nADYwo7dtlq",
    "outputId": "b8260bc4-bf3c-48df-97af-41af9e08e77b"
   },
   "outputs": [
    {
     "ename": "NameError",
     "evalue": "ignored",
     "output_type": "error",
     "traceback": [
      "\u001b[0;31m---------------------------------------------------------------------------\u001b[0m",
      "\u001b[0;31mNameError\u001b[0m                                 Traceback (most recent call last)",
      "\u001b[0;32m<ipython-input-13-7886ae6674ea>\u001b[0m in \u001b[0;36m<module>\u001b[0;34m()\u001b[0m\n\u001b[1;32m      2\u001b[0m \u001b[0;32mdel\u001b[0m \u001b[0mhola\u001b[0m\u001b[0;34m\u001b[0m\u001b[0;34m\u001b[0m\u001b[0m\n\u001b[1;32m      3\u001b[0m \u001b[0;34m\u001b[0m\u001b[0m\n\u001b[0;32m----> 4\u001b[0;31m \u001b[0mprint\u001b[0m\u001b[0;34m(\u001b[0m\u001b[0mhola\u001b[0m\u001b[0;34m)\u001b[0m\u001b[0;34m\u001b[0m\u001b[0;34m\u001b[0m\u001b[0m\n\u001b[0m",
      "\u001b[0;31mNameError\u001b[0m: name 'hola' is not defined"
     ]
    }
   ],
   "source": [
    "hola = \"hola\"\n",
    "del hola\n",
    "\n",
    "print(hola)"
   ]
  },
  {
   "cell_type": "markdown",
   "metadata": {
    "colab_type": "text",
    "id": "rVzkG3NOd81b"
   },
   "source": [
    "## Operadores"
   ]
  },
  {
   "cell_type": "code",
   "execution_count": null,
   "metadata": {
    "colab": {
     "base_uri": "https://localhost:8080/",
     "height": 34
    },
    "colab_type": "code",
    "executionInfo": {
     "elapsed": 728,
     "status": "ok",
     "timestamp": 1599279268957,
     "user": {
      "displayName": "Neisser Alonzo ALE ALE",
      "photoUrl": "",
      "userId": "05728023129513976545"
     },
     "user_tz": 300
    },
    "id": "De7goVXNd8Jj",
    "outputId": "fe179edb-39ee-4289-e6cf-d8d482a96667"
   },
   "outputs": [
    {
     "data": {
      "text/plain": [
       "20"
      ]
     },
     "execution_count": 19,
     "metadata": {
      "tags": []
     },
     "output_type": "execute_result"
    }
   ],
   "source": [
    "## sum\n",
    "10 + 10"
   ]
  },
  {
   "cell_type": "code",
   "execution_count": null,
   "metadata": {
    "colab": {
     "base_uri": "https://localhost:8080/",
     "height": 34
    },
    "colab_type": "code",
    "executionInfo": {
     "elapsed": 683,
     "status": "ok",
     "timestamp": 1599279237814,
     "user": {
      "displayName": "Neisser Alonzo ALE ALE",
      "photoUrl": "",
      "userId": "05728023129513976545"
     },
     "user_tz": 300
    },
    "id": "9XG3CjijdgQR",
    "outputId": "483ad901-d599-4120-eb3c-6f3e0ab8cccc"
   },
   "outputs": [
    {
     "data": {
      "text/plain": [
       "0"
      ]
     },
     "execution_count": 15,
     "metadata": {
      "tags": []
     },
     "output_type": "execute_result"
    }
   ],
   "source": [
    "## rest\n",
    "10 - 10"
   ]
  },
  {
   "cell_type": "code",
   "execution_count": null,
   "metadata": {
    "colab": {
     "base_uri": "https://localhost:8080/",
     "height": 34
    },
    "colab_type": "code",
    "executionInfo": {
     "elapsed": 663,
     "status": "ok",
     "timestamp": 1599279442597,
     "user": {
      "displayName": "Neisser Alonzo ALE ALE",
      "photoUrl": "",
      "userId": "05728023129513976545"
     },
     "user_tz": 300
    },
    "id": "ugq9pkIieIfH",
    "outputId": "9abc0a0c-ba74-4270-916e-a43cef5fd6d6"
   },
   "outputs": [
    {
     "data": {
      "text/plain": [
       "100"
      ]
     },
     "execution_count": 20,
     "metadata": {
      "tags": []
     },
     "output_type": "execute_result"
    }
   ],
   "source": [
    "## mul\n",
    "10 * 10"
   ]
  },
  {
   "cell_type": "code",
   "execution_count": null,
   "metadata": {
    "colab": {
     "base_uri": "https://localhost:8080/",
     "height": 34
    },
    "colab_type": "code",
    "executionInfo": {
     "elapsed": 692,
     "status": "ok",
     "timestamp": 1599279457330,
     "user": {
      "displayName": "Neisser Alonzo ALE ALE",
      "photoUrl": "",
      "userId": "05728023129513976545"
     },
     "user_tz": 300
    },
    "id": "N9T5f8Rde6fN",
    "outputId": "9bffc196-50be-4bc6-ed73-44c914180228"
   },
   "outputs": [
    {
     "data": {
      "text/plain": [
       "1.0"
      ]
     },
     "execution_count": 23,
     "metadata": {
      "tags": []
     },
     "output_type": "execute_result"
    }
   ],
   "source": [
    "## div\n",
    "10 / 10"
   ]
  },
  {
   "cell_type": "code",
   "execution_count": null,
   "metadata": {
    "colab": {
     "base_uri": "https://localhost:8080/",
     "height": 34
    },
    "colab_type": "code",
    "executionInfo": {
     "elapsed": 687,
     "status": "ok",
     "timestamp": 1599279462987,
     "user": {
      "displayName": "Neisser Alonzo ALE ALE",
      "photoUrl": "",
      "userId": "05728023129513976545"
     },
     "user_tz": 300
    },
    "id": "UcsASk4Ce7v2",
    "outputId": "bd9bd9b9-e249-4839-f3d2-a86314d77f3d"
   },
   "outputs": [
    {
     "data": {
      "text/plain": [
       "100"
      ]
     },
     "execution_count": 24,
     "metadata": {
      "tags": []
     },
     "output_type": "execute_result"
    }
   ],
   "source": [
    "## power\n",
    "10 ** 2"
   ]
  },
  {
   "cell_type": "code",
   "execution_count": null,
   "metadata": {
    "colab": {
     "base_uri": "https://localhost:8080/",
     "height": 34
    },
    "colab_type": "code",
    "executionInfo": {
     "elapsed": 707,
     "status": "ok",
     "timestamp": 1599279497302,
     "user": {
      "displayName": "Neisser Alonzo ALE ALE",
      "photoUrl": "",
      "userId": "05728023129513976545"
     },
     "user_tz": 300
    },
    "id": "azo18dsle_dd",
    "outputId": "4a07091a-2fe7-4b17-dacf-d9dec44f737f"
   },
   "outputs": [
    {
     "data": {
      "text/plain": [
       "0"
      ]
     },
     "execution_count": 31,
     "metadata": {
      "tags": []
     },
     "output_type": "execute_result"
    }
   ],
   "source": [
    "## residuo\n",
    "10 % 10"
   ]
  },
  {
   "cell_type": "markdown",
   "metadata": {
    "colab_type": "text",
    "id": "eWw8qWYNgNJZ"
   },
   "source": [
    "## Condicionales\n",
    "\n",
    "* Igualdad: **a == b**\n",
    "* Desigualdad: **a != b**\n",
    "* Menor que: **a < b**\n",
    "* Menor o igual que: **a <= b**\n",
    "* Mayor que: **a > b**\n",
    "* Mayor o igual que: **a >= b**"
   ]
  },
  {
   "cell_type": "markdown",
   "metadata": {
    "colab_type": "text",
    "id": "V1iOemvQiBxU"
   },
   "source": [
    "### if"
   ]
  },
  {
   "cell_type": "code",
   "execution_count": null,
   "metadata": {
    "colab": {},
    "colab_type": "code",
    "id": "GZDsxY6EiAAk"
   },
   "outputs": [],
   "source": [
    "## if\n",
    "nota = 10\n",
    "\n",
    "if nota >= 10.5:\n",
    "    print(\"Curso aprobado :)\")"
   ]
  },
  {
   "cell_type": "markdown",
   "metadata": {
    "colab_type": "text",
    "id": "h0Hv4KTOh5mw"
   },
   "source": [
    "### if - else"
   ]
  },
  {
   "cell_type": "code",
   "execution_count": null,
   "metadata": {
    "colab": {
     "base_uri": "https://localhost:8080/",
     "height": 51
    },
    "colab_type": "code",
    "executionInfo": {
     "elapsed": 9332,
     "status": "ok",
     "timestamp": 1599279876288,
     "user": {
      "displayName": "Neisser Alonzo ALE ALE",
      "photoUrl": "",
      "userId": "05728023129513976545"
     },
     "user_tz": 300
    },
    "id": "VnOxjZIvfBeK",
    "outputId": "a9670004-9659-41b4-cb8f-481f7e30fc46"
   },
   "outputs": [
    {
     "name": "stdout",
     "output_type": "stream",
     "text": [
      "10\n",
      "Pa la bica!!! :(\n"
     ]
    }
   ],
   "source": [
    "## if - else\n",
    "nota = 10\n",
    "nota = float(nota)\n",
    "\n",
    "if nota >= 10.5:\n",
    "    print(\"Curso aprobado :)\")\n",
    "    \n",
    "else:\n",
    "    print(\"Pa la bica!!! :(\")"
   ]
  },
  {
   "cell_type": "code",
   "execution_count": null,
   "metadata": {
    "colab": {
     "base_uri": "https://localhost:8080/",
     "height": 34
    },
    "colab_type": "code",
    "executionInfo": {
     "elapsed": 654,
     "status": "ok",
     "timestamp": 1599279961690,
     "user": {
      "displayName": "Neisser Alonzo ALE ALE",
      "photoUrl": "",
      "userId": "05728023129513976545"
     },
     "user_tz": 300
    },
    "id": "p2A1sS1egiQF",
    "outputId": "9614e299-988b-43f1-cf2c-8c3fe08a9e40"
   },
   "outputs": [
    {
     "name": "stdout",
     "output_type": "stream",
     "text": [
      "Pa la bica!!! :(\n"
     ]
    }
   ],
   "source": [
    "## if - else\n",
    "nota = 10\n",
    "print(\"Curso aprobado :)\") if nota >= 10.5 else print(\"Pa la bica!!! :(\")"
   ]
  },
  {
   "cell_type": "markdown",
   "metadata": {
    "colab_type": "text",
    "id": "FrygFaaWh9YD"
   },
   "source": [
    "### elif"
   ]
  },
  {
   "cell_type": "code",
   "execution_count": null,
   "metadata": {
    "colab": {
     "base_uri": "https://localhost:8080/",
     "height": 34
    },
    "colab_type": "code",
    "executionInfo": {
     "elapsed": 738,
     "status": "ok",
     "timestamp": 1599280102007,
     "user": {
      "displayName": "Neisser Alonzo ALE ALE",
      "photoUrl": "",
      "userId": "05728023129513976545"
     },
     "user_tz": 300
    },
    "id": "5fczwC0LhJpa",
    "outputId": "d498aade-881b-4a41-a224-c64731806c2f"
   },
   "outputs": [
    {
     "name": "stdout",
     "output_type": "stream",
     "text": [
      "iré a clase\n"
     ]
    }
   ],
   "source": [
    "## elif\n",
    "hoy = \"sábado\"\n",
    "\n",
    "if hoy == \"domingo\":\n",
    "    print(\"iré a la iglesia\")\n",
    "\n",
    "elif hoy == \"sábado\":\n",
    "    print(\"iré a clase\")\n",
    "    \n",
    "else:\n",
    "    print(\"iré a trabajar\")"
   ]
  },
  {
   "cell_type": "markdown",
   "metadata": {
    "colab_type": "text",
    "id": "ONCWYWqhhuqV"
   },
   "source": [
    "## Bucles"
   ]
  },
  {
   "cell_type": "markdown",
   "metadata": {
    "colab_type": "text",
    "id": "oAyoDiFRiTnj"
   },
   "source": [
    "### while"
   ]
  },
  {
   "cell_type": "code",
   "execution_count": null,
   "metadata": {
    "colab": {
     "base_uri": "https://localhost:8080/",
     "height": 119
    },
    "colab_type": "code",
    "executionInfo": {
     "elapsed": 565,
     "status": "ok",
     "timestamp": 1599280612149,
     "user": {
      "displayName": "Neisser Alonzo ALE ALE",
      "photoUrl": "",
      "userId": "05728023129513976545"
     },
     "user_tz": 300
    },
    "id": "tNjs_aTXhFNr",
    "outputId": "e35c57ad-4f3d-41b7-bfcf-ff9e8f628ea4"
   },
   "outputs": [
    {
     "name": "stdout",
     "output_type": "stream",
     "text": [
      "5\n",
      "4\n",
      "3\n",
      "2\n",
      "1\n",
      "Despegue!!!\n"
     ]
    }
   ],
   "source": [
    "## while\n",
    "n = 5\n",
    "\n",
    "while n > 0:\n",
    "    print(n)\n",
    "    n -= 1\n",
    "    \n",
    "print(\"Despegue!!!\")"
   ]
  },
  {
   "cell_type": "code",
   "execution_count": null,
   "metadata": {
    "colab": {
     "base_uri": "https://localhost:8080/",
     "height": 204
    },
    "colab_type": "code",
    "executionInfo": {
     "elapsed": 703,
     "status": "ok",
     "timestamp": 1599284982224,
     "user": {
      "displayName": "Neisser Alonzo ALE ALE",
      "photoUrl": "",
      "userId": "05728023129513976545"
     },
     "user_tz": 300
    },
    "id": "LAKvtXRMjYB4",
    "outputId": "872842f9-680e-4f6b-9426-f65314385b29"
   },
   "outputs": [
    {
     "name": "stdout",
     "output_type": "stream",
     "text": [
      "20\n",
      "19\n",
      "18\n",
      "17\n",
      "16\n",
      "15\n",
      "14\n",
      "13\n",
      "12\n",
      "11\n",
      "Saliendon del bucle en 10\n"
     ]
    }
   ],
   "source": [
    "## break & continue\n",
    "n = 20\n",
    "\n",
    "while True: \n",
    "    if n == 10:\n",
    "        print(\"Saliendon del bucle en {}\".format(n))\n",
    "        break\n",
    "    \n",
    "    print(n)\n",
    "    n -= 1"
   ]
  },
  {
   "cell_type": "markdown",
   "metadata": {
    "colab_type": "text",
    "id": "p2yHyYKf0IWp"
   },
   "source": [
    "### for"
   ]
  },
  {
   "cell_type": "code",
   "execution_count": null,
   "metadata": {
    "colab": {
     "base_uri": "https://localhost:8080/",
     "height": 68
    },
    "colab_type": "code",
    "executionInfo": {
     "elapsed": 748,
     "status": "ok",
     "timestamp": 1599285018080,
     "user": {
      "displayName": "Neisser Alonzo ALE ALE",
      "photoUrl": "",
      "userId": "05728023129513976545"
     },
     "user_tz": 300
    },
    "id": "8I8w0NtQ0GPd",
    "outputId": "56393b5a-89ad-414b-dd41-a56d2e8ae590"
   },
   "outputs": [
    {
     "name": "stdout",
     "output_type": "stream",
     "text": [
      "Hola profe Ballón\n",
      "Hola profe Fabián\n",
      "Hola profe Marks\n"
     ]
    }
   ],
   "source": [
    "## for\n",
    "profesores = [\"Ballón\", \"Fabián\", \"Marks\"]\n",
    "\n",
    "for profesor in profesores:\n",
    "    print(\"Hola profe {}\".format(profesor))"
   ]
  },
  {
   "cell_type": "code",
   "execution_count": null,
   "metadata": {
    "colab": {
     "base_uri": "https://localhost:8080/",
     "height": 34
    },
    "colab_type": "code",
    "executionInfo": {
     "elapsed": 638,
     "status": "ok",
     "timestamp": 1599285053352,
     "user": {
      "displayName": "Neisser Alonzo ALE ALE",
      "photoUrl": "",
      "userId": "05728023129513976545"
     },
     "user_tz": 300
    },
    "id": "sSdHbb7dyd1J",
    "outputId": "0c0bbc67-4b84-47ab-e748-8c923e296661"
   },
   "outputs": [
    {
     "name": "stdout",
     "output_type": "stream",
     "text": [
      "[0, 1, 4, 9, 16, 25, 36, 49, 64, 81]\n"
     ]
    }
   ],
   "source": [
    "## listas por comprensión\n",
    "cuadrado = [x ** 2 for x in range(0,10)]\n",
    "print(cuadrado)"
   ]
  },
  {
   "cell_type": "code",
   "execution_count": null,
   "metadata": {
    "colab": {
     "base_uri": "https://localhost:8080/",
     "height": 34
    },
    "colab_type": "code",
    "executionInfo": {
     "elapsed": 625,
     "status": "ok",
     "timestamp": 1599285075473,
     "user": {
      "displayName": "Neisser Alonzo ALE ALE",
      "photoUrl": "",
      "userId": "05728023129513976545"
     },
     "user_tz": 300
    },
    "id": "iwOLRZ2y0UT5",
    "outputId": "889004cc-8575-4ffe-8b7d-499ae68f2f08"
   },
   "outputs": [
    {
     "data": {
      "text/plain": [
       "[0, 2, 4, 6, 8]"
      ]
     },
     "execution_count": 52,
     "metadata": {
      "tags": []
     },
     "output_type": "execute_result"
    }
   ],
   "source": [
    "## listas por comprensión\n",
    "pares = [x for x in range(0, 10) if x % 2 == 0]\n",
    "pares"
   ]
  },
  {
   "cell_type": "markdown",
   "metadata": {
    "colab_type": "text",
    "id": "ksC16yXc0dyf"
   },
   "source": [
    "## Funciones"
   ]
  },
  {
   "cell_type": "code",
   "execution_count": null,
   "metadata": {
    "colab": {
     "base_uri": "https://localhost:8080/",
     "height": 34
    },
    "colab_type": "code",
    "executionInfo": {
     "elapsed": 611,
     "status": "ok",
     "timestamp": 1599285106317,
     "user": {
      "displayName": "Neisser Alonzo ALE ALE",
      "photoUrl": "",
      "userId": "05728023129513976545"
     },
     "user_tz": 300
    },
    "id": "jzF8TGq30Zta",
    "outputId": "46f89270-a81f-42dc-a86e-c66ff72cfc0b"
   },
   "outputs": [
    {
     "name": "stdout",
     "output_type": "stream",
     "text": [
      "Hola soy Python\n"
     ]
    }
   ],
   "source": [
    "## esteril\n",
    "def hola():\n",
    "    print(\"Hola soy Python\")\n",
    "    \n",
    "hola()"
   ]
  },
  {
   "cell_type": "code",
   "execution_count": null,
   "metadata": {
    "colab": {
     "base_uri": "https://localhost:8080/",
     "height": 34
    },
    "colab_type": "code",
    "executionInfo": {
     "elapsed": 691,
     "status": "ok",
     "timestamp": 1599285136369,
     "user": {
      "displayName": "Neisser Alonzo ALE ALE",
      "photoUrl": "",
      "userId": "05728023129513976545"
     },
     "user_tz": 300
    },
    "id": "W35K4YRa0hPa",
    "outputId": "adcc7b3e-6a67-49dd-abdb-f5565d53268c"
   },
   "outputs": [
    {
     "data": {
      "text/plain": [
       "20"
      ]
     },
     "execution_count": 55,
     "metadata": {
      "tags": []
     },
     "output_type": "execute_result"
    }
   ],
   "source": [
    "## parámetros\n",
    "def sumar(a, b):\n",
    "    \"\"\"Retorna la suma de a y b\"\"\"\n",
    "    c = a + b\n",
    "    \n",
    "    return c\n",
    "\n",
    "suma = sumar(10, 10)\n",
    "suma"
   ]
  },
  {
   "cell_type": "code",
   "execution_count": null,
   "metadata": {
    "colab": {
     "base_uri": "https://localhost:8080/",
     "height": 102
    },
    "colab_type": "code",
    "executionInfo": {
     "elapsed": 655,
     "status": "ok",
     "timestamp": 1599285173490,
     "user": {
      "displayName": "Neisser Alonzo ALE ALE",
      "photoUrl": "",
      "userId": "05728023129513976545"
     },
     "user_tz": 300
    },
    "id": "mtBHnZfq0nob",
    "outputId": "d1c3a478-0bc2-49c6-a91c-c573f190a113"
   },
   "outputs": [
    {
     "name": "stdout",
     "output_type": "stream",
     "text": [
      "Help on function sumar in module __main__:\n",
      "\n",
      "sumar(a, b)\n",
      "    Retorna la suma de a y b\n",
      "\n"
     ]
    }
   ],
   "source": [
    "## ayuda en Python\n",
    "help(sumar)\n",
    "?sumar"
   ]
  },
  {
   "cell_type": "markdown",
   "metadata": {
    "colab_type": "text",
    "id": "5sEBHXXI00RO"
   },
   "source": [
    "## Excepciones"
   ]
  },
  {
   "cell_type": "code",
   "execution_count": null,
   "metadata": {
    "colab": {
     "base_uri": "https://localhost:8080/",
     "height": 265
    },
    "colab_type": "code",
    "executionInfo": {
     "elapsed": 637,
     "status": "error",
     "timestamp": 1599285227067,
     "user": {
      "displayName": "Neisser Alonzo ALE ALE",
      "photoUrl": "",
      "userId": "05728023129513976545"
     },
     "user_tz": 300
    },
    "id": "0HNfAqgC0roS",
    "outputId": "4bbdc545-3ee8-4c22-c621-ca18f243404b"
   },
   "outputs": [
    {
     "name": "stdout",
     "output_type": "stream",
     "text": [
      "hola Python\n",
      "Ha ocurrido un error!!!\n"
     ]
    },
    {
     "ename": "NameError",
     "evalue": "ignored",
     "output_type": "error",
     "traceback": [
      "\u001b[0;31m---------------------------------------------------------------------------\u001b[0m",
      "\u001b[0;31mNameError\u001b[0m                                 Traceback (most recent call last)",
      "\u001b[0;32m<ipython-input-62-873aade47a8e>\u001b[0m in \u001b[0;36m<module>\u001b[0;34m()\u001b[0m\n\u001b[1;32m      2\u001b[0m \u001b[0;32mtry\u001b[0m\u001b[0;34m:\u001b[0m\u001b[0;34m\u001b[0m\u001b[0;34m\u001b[0m\u001b[0m\n\u001b[1;32m      3\u001b[0m     \u001b[0mprint\u001b[0m\u001b[0;34m(\u001b[0m\u001b[0;34m\"hola Python\"\u001b[0m\u001b[0;34m)\u001b[0m\u001b[0;34m\u001b[0m\u001b[0;34m\u001b[0m\u001b[0m\n\u001b[0;32m----> 4\u001b[0;31m     \u001b[0mprint\u001b[0m\u001b[0;34m(\u001b[0m\u001b[0mvalue\u001b[0m\u001b[0;34m)\u001b[0m\u001b[0;34m\u001b[0m\u001b[0;34m\u001b[0m\u001b[0m\n\u001b[0m\u001b[1;32m      5\u001b[0m \u001b[0;34m\u001b[0m\u001b[0m\n\u001b[1;32m      6\u001b[0m \u001b[0;32mexcept\u001b[0m\u001b[0;34m:\u001b[0m\u001b[0;34m\u001b[0m\u001b[0;34m\u001b[0m\u001b[0m\n",
      "\u001b[0;31mNameError\u001b[0m: name 'value' is not defined"
     ]
    }
   ],
   "source": [
    "# try | except:\n",
    "try:\n",
    "    print(\"hola Python\")\n",
    "    print(value)\n",
    "\n",
    "except:\n",
    "    print(\"Ha ocurrido un error!!!\")\n",
    "    raise"
   ]
  },
  {
   "cell_type": "markdown",
   "metadata": {
    "colab_type": "text",
    "id": "uhz0Z5UU1BiZ"
   },
   "source": [
    "## Estructura de Datos"
   ]
  },
  {
   "cell_type": "markdown",
   "metadata": {
    "colab_type": "text",
    "id": "jmYD8tmv1jxm"
   },
   "source": [
    "### Listas"
   ]
  },
  {
   "cell_type": "code",
   "execution_count": null,
   "metadata": {
    "colab": {
     "base_uri": "https://localhost:8080/",
     "height": 34
    },
    "colab_type": "code",
    "executionInfo": {
     "elapsed": 1241,
     "status": "ok",
     "timestamp": 1599285393846,
     "user": {
      "displayName": "Neisser Alonzo ALE ALE",
      "photoUrl": "",
      "userId": "05728023129513976545"
     },
     "user_tz": 300
    },
    "id": "hK50VEfQ1Aq9",
    "outputId": "2e473dd0-d5a6-4156-c337-d62cab0c2b81"
   },
   "outputs": [
    {
     "data": {
      "text/plain": [
       "(['L', 'M', 'X', 'J', 'V'], list)"
      ]
     },
     "execution_count": 63,
     "metadata": {
      "tags": []
     },
     "output_type": "execute_result"
    }
   ],
   "source": [
    "## list\n",
    "semana = [\"L\", \"M\", \"X\", \"J\", \"V\"]\n",
    "semana, type(semana)"
   ]
  },
  {
   "cell_type": "code",
   "execution_count": null,
   "metadata": {
    "colab": {
     "base_uri": "https://localhost:8080/",
     "height": 34
    },
    "colab_type": "code",
    "executionInfo": {
     "elapsed": 1233,
     "status": "ok",
     "timestamp": 1599285397584,
     "user": {
      "displayName": "Neisser Alonzo ALE ALE",
      "photoUrl": "",
      "userId": "05728023129513976545"
     },
     "user_tz": 300
    },
    "id": "Y-gp3UvX04w7",
    "outputId": "7b6dd390-0834-4128-e14b-a83082fa0b9b"
   },
   "outputs": [
    {
     "data": {
      "text/plain": [
       "5"
      ]
     },
     "execution_count": 64,
     "metadata": {
      "tags": []
     },
     "output_type": "execute_result"
    }
   ],
   "source": [
    "## len \n",
    "len(semana)"
   ]
  },
  {
   "cell_type": "code",
   "execution_count": null,
   "metadata": {
    "colab": {
     "base_uri": "https://localhost:8080/",
     "height": 34
    },
    "colab_type": "code",
    "executionInfo": {
     "elapsed": 1219,
     "status": "ok",
     "timestamp": 1599285406562,
     "user": {
      "displayName": "Neisser Alonzo ALE ALE",
      "photoUrl": "",
      "userId": "05728023129513976545"
     },
     "user_tz": 300
    },
    "id": "N4WkJ0ix1oM1",
    "outputId": "1e469815-20d2-4f74-c667-fe60faaf4070"
   },
   "outputs": [
    {
     "data": {
      "text/plain": [
       "('L', ['M', 'X', 'J', 'V'], 'V')"
      ]
     },
     "execution_count": 65,
     "metadata": {
      "tags": []
     },
     "output_type": "execute_result"
    }
   ],
   "source": [
    "## get a value\n",
    "semana[0], semana[1:], semana[-1]"
   ]
  },
  {
   "cell_type": "code",
   "execution_count": null,
   "metadata": {
    "colab": {
     "base_uri": "https://localhost:8080/",
     "height": 34
    },
    "colab_type": "code",
    "executionInfo": {
     "elapsed": 680,
     "status": "ok",
     "timestamp": 1599285426233,
     "user": {
      "displayName": "Neisser Alonzo ALE ALE",
      "photoUrl": "",
      "userId": "05728023129513976545"
     },
     "user_tz": 300
    },
    "id": "gT5TooBw1qZm",
    "outputId": "4e7ebd3f-6573-4b8e-8616-ef879f2011c2"
   },
   "outputs": [
    {
     "data": {
      "text/plain": [
       "['L', 'M', 'X', 'J', 'V', 'S']"
      ]
     },
     "execution_count": 66,
     "metadata": {
      "tags": []
     },
     "output_type": "execute_result"
    }
   ],
   "source": [
    "## add a value\n",
    "semana.append(\"S\")\n",
    "semana"
   ]
  },
  {
   "cell_type": "code",
   "execution_count": null,
   "metadata": {
    "colab": {
     "base_uri": "https://localhost:8080/",
     "height": 34
    },
    "colab_type": "code",
    "executionInfo": {
     "elapsed": 694,
     "status": "ok",
     "timestamp": 1599285440576,
     "user": {
      "displayName": "Neisser Alonzo ALE ALE",
      "photoUrl": "",
      "userId": "05728023129513976545"
     },
     "user_tz": 300
    },
    "id": "D8vEVfmV1vVW",
    "outputId": "dbfff834-0d15-46e1-95ee-d42dc05f0ada"
   },
   "outputs": [
    {
     "data": {
      "text/plain": [
       "['L', 'M', 'X', 'J', 'V', 'S', ['S', 'D']]"
      ]
     },
     "execution_count": 67,
     "metadata": {
      "tags": []
     },
     "output_type": "execute_result"
    }
   ],
   "source": [
    "## add values\n",
    "semana.append([\"S\", \"D\"])\n",
    "semana"
   ]
  },
  {
   "cell_type": "code",
   "execution_count": null,
   "metadata": {
    "colab": {
     "base_uri": "https://localhost:8080/",
     "height": 34
    },
    "colab_type": "code",
    "executionInfo": {
     "elapsed": 612,
     "status": "ok",
     "timestamp": 1599285460114,
     "user": {
      "displayName": "Neisser Alonzo ALE ALE",
      "photoUrl": "",
      "userId": "05728023129513976545"
     },
     "user_tz": 300
    },
    "id": "7XCeBjRE1y05",
    "outputId": "2e25f720-e7dc-4d22-d634-7dde785f3c79"
   },
   "outputs": [
    {
     "data": {
      "text/plain": [
       "['l', 'M', 'X', 'J', 'V', 'S', ['S', 'D']]"
      ]
     },
     "execution_count": 68,
     "metadata": {
      "tags": []
     },
     "output_type": "execute_result"
    }
   ],
   "source": [
    "## update an element\n",
    "semana[0] = \"l\"\n",
    "semana"
   ]
  },
  {
   "cell_type": "code",
   "execution_count": null,
   "metadata": {
    "colab": {
     "base_uri": "https://localhost:8080/",
     "height": 34
    },
    "colab_type": "code",
    "executionInfo": {
     "elapsed": 746,
     "status": "ok",
     "timestamp": 1599285468682,
     "user": {
      "displayName": "Neisser Alonzo ALE ALE",
      "photoUrl": "",
      "userId": "05728023129513976545"
     },
     "user_tz": 300
    },
    "id": "HQFe9say13nh",
    "outputId": "f739b5d9-9349-48b7-ed50-b22abe8fb4ca"
   },
   "outputs": [
    {
     "data": {
      "text/plain": [
       "1"
      ]
     },
     "execution_count": 69,
     "metadata": {
      "tags": []
     },
     "output_type": "execute_result"
    }
   ],
   "source": [
    "## count elements\n",
    "semana.count(\"S\")"
   ]
  },
  {
   "cell_type": "code",
   "execution_count": null,
   "metadata": {
    "colab": {
     "base_uri": "https://localhost:8080/",
     "height": 34
    },
    "colab_type": "code",
    "executionInfo": {
     "elapsed": 747,
     "status": "ok",
     "timestamp": 1599285488439,
     "user": {
      "displayName": "Neisser Alonzo ALE ALE",
      "photoUrl": "",
      "userId": "05728023129513976545"
     },
     "user_tz": 300
    },
    "id": "CAkUtOBT15rR",
    "outputId": "ae1355cb-4015-4f36-c367-2d488065cea0"
   },
   "outputs": [
    {
     "data": {
      "text/plain": [
       "['l', 'M', 'X', 'J', 'V', ['S', 'D']]"
      ]
     },
     "execution_count": 70,
     "metadata": {
      "tags": []
     },
     "output_type": "execute_result"
    }
   ],
   "source": [
    "## del element\n",
    "semana.remove(\"S\")\n",
    "semana"
   ]
  },
  {
   "cell_type": "code",
   "execution_count": null,
   "metadata": {
    "colab": {
     "base_uri": "https://localhost:8080/",
     "height": 34
    },
    "colab_type": "code",
    "executionInfo": {
     "elapsed": 594,
     "status": "ok",
     "timestamp": 1599285933114,
     "user": {
      "displayName": "Neisser Alonzo ALE ALE",
      "photoUrl": "",
      "userId": "05728023129513976545"
     },
     "user_tz": 300
    },
    "id": "tQJPREjQ2pCu",
    "outputId": "ee449c3d-43cf-435f-ef8f-2f278365c646"
   },
   "outputs": [
    {
     "data": {
      "text/plain": [
       "['l', 'M', 'X', 'J', 'V', 'S', 'D']"
      ]
     },
     "execution_count": 89,
     "metadata": {
      "tags": []
     },
     "output_type": "execute_result"
    }
   ],
   "source": [
    "## extend list\n",
    "import itertools\n",
    "\n",
    "extend = itertools.chain.from_iterable\n",
    "semana = list(extend(semana))\n",
    "semana"
   ]
  },
  {
   "cell_type": "code",
   "execution_count": null,
   "metadata": {
    "colab": {
     "base_uri": "https://localhost:8080/",
     "height": 34
    },
    "colab_type": "code",
    "executionInfo": {
     "elapsed": 579,
     "status": "ok",
     "timestamp": 1599285935756,
     "user": {
      "displayName": "Neisser Alonzo ALE ALE",
      "photoUrl": "",
      "userId": "05728023129513976545"
     },
     "user_tz": 300
    },
    "id": "aPDO3wBT1-f5",
    "outputId": "4d5ccda9-e0a0-4e48-fd8c-d50b95c2fdce"
   },
   "outputs": [
    {
     "data": {
      "text/plain": [
       "['l', 'm', 'x', 'j', 'v', 's', 'd']"
      ]
     },
     "execution_count": 90,
     "metadata": {
      "tags": []
     },
     "output_type": "execute_result"
    }
   ],
   "source": [
    "## lower\n",
    "semana = [d.lower() for d in semana]\n",
    "semana"
   ]
  },
  {
   "cell_type": "code",
   "execution_count": null,
   "metadata": {
    "colab": {
     "base_uri": "https://localhost:8080/",
     "height": 34
    },
    "colab_type": "code",
    "executionInfo": {
     "elapsed": 565,
     "status": "ok",
     "timestamp": 1599285960910,
     "user": {
      "displayName": "Neisser Alonzo ALE ALE",
      "photoUrl": "",
      "userId": "05728023129513976545"
     },
     "user_tz": 300
    },
    "id": "dZjoCcPJ2IrA",
    "outputId": "39dd9ebe-d19c-4a9e-df43-bd0f24f5d66a"
   },
   "outputs": [
    {
     "data": {
      "text/plain": [
       "['L', 'M', 'X', 'J', 'V', 'S', 'D']"
      ]
     },
     "execution_count": 91,
     "metadata": {
      "tags": []
     },
     "output_type": "execute_result"
    }
   ],
   "source": [
    "## uper\n",
    "semana = [d.upper() for d in semana]\n",
    "semana"
   ]
  },
  {
   "cell_type": "code",
   "execution_count": null,
   "metadata": {
    "colab": {
     "base_uri": "https://localhost:8080/",
     "height": 34
    },
    "colab_type": "code",
    "executionInfo": {
     "elapsed": 640,
     "status": "ok",
     "timestamp": 1599286015338,
     "user": {
      "displayName": "Neisser Alonzo ALE ALE",
      "photoUrl": "",
      "userId": "05728023129513976545"
     },
     "user_tz": 300
    },
    "id": "dn5xZSLo3x4j",
    "outputId": "93c7206b-1e4b-441e-aa90-66c3adfe1bd2"
   },
   "outputs": [
    {
     "data": {
      "text/plain": [
       "{'D', 'J', 'L', 'M', 'S', 'V', 'X'}"
      ]
     },
     "execution_count": 94,
     "metadata": {
      "tags": []
     },
     "output_type": "execute_result"
    }
   ],
   "source": [
    "## set\n",
    "semana = ['L', 'M', 'X', 'J', 'V', 'S', 'D', 'D', 'D']\n",
    "semana = set(semana)\n",
    "semana"
   ]
  },
  {
   "cell_type": "markdown",
   "metadata": {
    "colab_type": "text",
    "id": "UjeIJ_Sc4BB_"
   },
   "source": [
    "### Diccionarios"
   ]
  },
  {
   "cell_type": "code",
   "execution_count": null,
   "metadata": {
    "colab": {
     "base_uri": "https://localhost:8080/",
     "height": 136
    },
    "colab_type": "code",
    "executionInfo": {
     "elapsed": 585,
     "status": "ok",
     "timestamp": 1599286040637,
     "user": {
      "displayName": "Neisser Alonzo ALE ALE",
      "photoUrl": "",
      "userId": "05728023129513976545"
     },
     "user_tz": 300
    },
    "id": "nts8zj5M30-s",
    "outputId": "66eb1cde-9b98-45f5-b292-9e003a915cdd"
   },
   "outputs": [
    {
     "data": {
      "text/plain": [
       "({'activo': True,\n",
       "  'club': ['Barcelona', 'Argentina'],\n",
       "  'deporte': 'fútbol',\n",
       "  'nombre': 'Lionel Messi',\n",
       "  'posición': 10,\n",
       "  'sueldo': 10000.0},\n",
       " dict)"
      ]
     },
     "execution_count": 95,
     "metadata": {
      "tags": []
     },
     "output_type": "execute_result"
    }
   ],
   "source": [
    "## key and values\n",
    "player = {\"nombre\": \"Lionel Messi\",\n",
    "          \"deporte\": \"fútbol\",\n",
    "          \"club\": [\"Barcelona\", \"Argentina\"],\n",
    "          \"posición\": 10,\n",
    "          \"sueldo\": 10000.00,\n",
    "          \"activo\": True}\n",
    "\n",
    "player, type(player)"
   ]
  },
  {
   "cell_type": "code",
   "execution_count": null,
   "metadata": {
    "colab": {
     "base_uri": "https://localhost:8080/",
     "height": 34
    },
    "colab_type": "code",
    "executionInfo": {
     "elapsed": 570,
     "status": "ok",
     "timestamp": 1599286051811,
     "user": {
      "displayName": "Neisser Alonzo ALE ALE",
      "photoUrl": "",
      "userId": "05728023129513976545"
     },
     "user_tz": 300
    },
    "id": "84m-U7LT4FWg",
    "outputId": "15b42207-fad1-4b96-82bc-2460a9d30fc8"
   },
   "outputs": [
    {
     "data": {
      "text/plain": [
       "dict_keys(['nombre', 'deporte', 'club', 'posición', 'sueldo', 'activo'])"
      ]
     },
     "execution_count": 96,
     "metadata": {
      "tags": []
     },
     "output_type": "execute_result"
    }
   ],
   "source": [
    "## keys\n",
    "player.keys()"
   ]
  },
  {
   "cell_type": "code",
   "execution_count": null,
   "metadata": {
    "colab": {
     "base_uri": "https://localhost:8080/",
     "height": 34
    },
    "colab_type": "code",
    "executionInfo": {
     "elapsed": 613,
     "status": "ok",
     "timestamp": 1599286057542,
     "user": {
      "displayName": "Neisser Alonzo ALE ALE",
      "photoUrl": "",
      "userId": "05728023129513976545"
     },
     "user_tz": 300
    },
    "id": "80ugO2vI4IFY",
    "outputId": "429eb8e8-5b1d-49aa-f6c8-faa755384fe3"
   },
   "outputs": [
    {
     "data": {
      "text/plain": [
       "6"
      ]
     },
     "execution_count": 97,
     "metadata": {
      "tags": []
     },
     "output_type": "execute_result"
    }
   ],
   "source": [
    "## len \n",
    "len(player)"
   ]
  },
  {
   "cell_type": "code",
   "execution_count": null,
   "metadata": {
    "colab": {
     "base_uri": "https://localhost:8080/",
     "height": 35
    },
    "colab_type": "code",
    "executionInfo": {
     "elapsed": 723,
     "status": "ok",
     "timestamp": 1599286064966,
     "user": {
      "displayName": "Neisser Alonzo ALE ALE",
      "photoUrl": "",
      "userId": "05728023129513976545"
     },
     "user_tz": 300
    },
    "id": "ps4vGgI74Jeg",
    "outputId": "ec04f16e-5caa-4840-9f68-11b63dfc336b"
   },
   "outputs": [
    {
     "data": {
      "application/vnd.google.colaboratory.intrinsic+json": {
       "type": "string"
      },
      "text/plain": [
       "'Lionel Messi'"
      ]
     },
     "execution_count": 98,
     "metadata": {
      "tags": []
     },
     "output_type": "execute_result"
    }
   ],
   "source": [
    "## get value of a key\n",
    "player[\"nombre\"]"
   ]
  },
  {
   "cell_type": "code",
   "execution_count": null,
   "metadata": {
    "colab": {
     "base_uri": "https://localhost:8080/",
     "height": 136
    },
    "colab_type": "code",
    "executionInfo": {
     "elapsed": 922,
     "status": "ok",
     "timestamp": 1599286112526,
     "user": {
      "displayName": "Neisser Alonzo ALE ALE",
      "photoUrl": "",
      "userId": "05728023129513976545"
     },
     "user_tz": 300
    },
    "id": "o8Co67Z74LQ-",
    "outputId": "d238760b-9193-4705-9493-5bc76d2bc7e7"
   },
   "outputs": [
    {
     "data": {
      "text/plain": [
       "{'activo': True,\n",
       " 'club': ['Barcelona', 'Argentina'],\n",
       " 'deporte': 'fútbol',\n",
       " 'goles': 100,\n",
       " 'nombre': 'Lionel Messi',\n",
       " 'posición': 10,\n",
       " 'sueldo': 10000.0}"
      ]
     },
     "execution_count": 102,
     "metadata": {
      "tags": []
     },
     "output_type": "execute_result"
    }
   ],
   "source": [
    "## add key/value\n",
    "player[\"goles\"] = 100\n",
    "player"
   ]
  },
  {
   "cell_type": "code",
   "execution_count": null,
   "metadata": {
    "colab": {
     "base_uri": "https://localhost:8080/",
     "height": 136
    },
    "colab_type": "code",
    "executionInfo": {
     "elapsed": 638,
     "status": "ok",
     "timestamp": 1599286134761,
     "user": {
      "displayName": "Neisser Alonzo ALE ALE",
      "photoUrl": "",
      "userId": "05728023129513976545"
     },
     "user_tz": 300
    },
    "id": "J1pw0JdZ4NQQ",
    "outputId": "f5490ac5-6b6f-4dec-bbba-e0e164cf38bd"
   },
   "outputs": [
    {
     "data": {
      "text/plain": [
       "{'activo': True,\n",
       " 'club': ['Barcelona', 'Argentina'],\n",
       " 'deporte': 'fútbol',\n",
       " 'goles': 700,\n",
       " 'nombre': 'Lionel Messi',\n",
       " 'posición': 10,\n",
       " 'sueldo': 10000.0}"
      ]
     },
     "execution_count": 103,
     "metadata": {
      "tags": []
     },
     "output_type": "execute_result"
    }
   ],
   "source": [
    "## update the value of a key\n",
    "player[\"goles\"] = 700\n",
    "player"
   ]
  },
  {
   "cell_type": "code",
   "execution_count": null,
   "metadata": {
    "colab": {
     "base_uri": "https://localhost:8080/",
     "height": 119
    },
    "colab_type": "code",
    "executionInfo": {
     "elapsed": 669,
     "status": "ok",
     "timestamp": 1599286154326,
     "user": {
      "displayName": "Neisser Alonzo ALE ALE",
      "photoUrl": "",
      "userId": "05728023129513976545"
     },
     "user_tz": 300
    },
    "id": "X5Uuxp4P4cUg",
    "outputId": "18ccf444-0703-4a32-c75b-836f295d9fbe"
   },
   "outputs": [
    {
     "data": {
      "text/plain": [
       "{'activo': True,\n",
       " 'club': ['Barcelona', 'Argentina'],\n",
       " 'deporte': 'fútbol',\n",
       " 'nombre': 'Lionel Messi',\n",
       " 'posición': 10,\n",
       " 'sueldo': 10000.0}"
      ]
     },
     "execution_count": 104,
     "metadata": {
      "tags": []
     },
     "output_type": "execute_result"
    }
   ],
   "source": [
    "## delete an element\n",
    "del player[\"goles\"]\n",
    "player"
   ]
  },
  {
   "cell_type": "code",
   "execution_count": null,
   "metadata": {
    "colab": {
     "base_uri": "https://localhost:8080/",
     "height": 119
    },
    "colab_type": "code",
    "executionInfo": {
     "elapsed": 549,
     "status": "ok",
     "timestamp": 1599286233613,
     "user": {
      "displayName": "Neisser Alonzo ALE ALE",
      "photoUrl": "",
      "userId": "05728023129513976545"
     },
     "user_tz": 300
    },
    "id": "YwN07gSV4hFo",
    "outputId": "e362b803-aeb5-4623-e44e-af37ba644a06"
   },
   "outputs": [
    {
     "name": "stdout",
     "output_type": "stream",
     "text": [
      "nombre :  Lionel Messi\n",
      "deporte :  fútbol\n",
      "club :  ['Barcelona', 'Argentina']\n",
      "posición :  10\n",
      "sueldo :  10000.0\n",
      "activo :  True\n"
     ]
    }
   ],
   "source": [
    "## iter dict\n",
    "for k in player:\n",
    "    print(k, \": \", player[k])"
   ]
  },
  {
   "cell_type": "markdown",
   "metadata": {
    "colab_type": "text",
    "id": "ZpsAZNX5439R"
   },
   "source": [
    "# Ejercicios"
   ]
  },
  {
   "cell_type": "markdown",
   "metadata": {
    "colab_type": "text",
    "id": "-WgVfFuY49Qe"
   },
   "source": [
    "### Palíndromos\n",
    "\n",
    "Es una palabra o frase que se lee igual de izquierda a derecha que de derecha a izquierda. \n",
    "\n",
    "<img src = \"https://3.bp.blogspot.com/-DBP2hGTY0bY/WTplZKTTEZI/AAAAAAAABvc/J0u4LADiOcYujCccEP2vnNgQU0SEa9ObgCLcB/s1600/palindromos.jpg\"></img>\n",
    "\n",
    "* **Crear una función para verificar si una palabra o frase es un palíndromo**"
   ]
  },
  {
   "cell_type": "code",
   "execution_count": null,
   "metadata": {
    "colab": {
     "base_uri": "https://localhost:8080/",
     "height": 34
    },
    "colab_type": "code",
    "executionInfo": {
     "elapsed": 677,
     "status": "ok",
     "timestamp": 1599286278649,
     "user": {
      "displayName": "Neisser Alonzo ALE ALE",
      "photoUrl": "",
      "userId": "05728023129513976545"
     },
     "user_tz": 300
    },
    "id": "na8_tjim4pxB",
    "outputId": "655bf8f7-3dfa-4ffd-d4aa-99f4769eb1f6"
   },
   "outputs": [
    {
     "name": "stdout",
     "output_type": "stream",
     "text": [
      "reconocer\n"
     ]
    }
   ],
   "source": [
    "w = \"reconocer\"\n",
    "print(w)"
   ]
  },
  {
   "cell_type": "code",
   "execution_count": null,
   "metadata": {
    "colab": {},
    "colab_type": "code",
    "id": "-OZhWaXW4715"
   },
   "outputs": [],
   "source": []
  }
 ],
 "metadata": {
  "colab": {
   "authorship_tag": "ABX9TyOPf/bop5vdRj/NjaWy82ev",
   "collapsed_sections": [
    "V1iOemvQiBxU",
    "h0Hv4KTOh5mw",
    "FrygFaaWh9YD",
    "oAyoDiFRiTnj",
    "p2yHyYKf0IWp",
    "jmYD8tmv1jxm",
    "-WgVfFuY49Qe"
   ],
   "name": "fundamentos_de_python.ipynb",
   "provenance": [],
   "toc_visible": true
  },
  "kernelspec": {
   "display_name": "Python 3",
   "language": "python",
   "name": "python3"
  },
  "language_info": {
   "codemirror_mode": {
    "name": "ipython",
    "version": 3
   },
   "file_extension": ".py",
   "mimetype": "text/x-python",
   "name": "python",
   "nbconvert_exporter": "python",
   "pygments_lexer": "ipython3",
   "version": "3.7.6"
  }
 },
 "nbformat": 4,
 "nbformat_minor": 1
}
